{
 "cells": [
  {
   "cell_type": "markdown",
   "metadata": {},
   "source": [
    "# Azure OpenAI - Function Calling to retrieve Real-time weather of a city\n",
    "The latest versions of gpt-35-turbo and gpt-4 have been fine-tuned to work with functions and are able to both determine when and how a function should be called.This sample contains Jupyter notebook to test functional calling first-hand by retrieving real time weather of a city from https://rapidapi.com/weatherapi/api/weatherapi-com.\n",
    "\n",
    "At a high level you can break down working with functions into three steps:\n",
    "\n",
    "1. Call the chat completions API with your functions and the user’s input\n",
    "2. Use the model’s response to call your API or function\n",
    "3. Call the chat completions API again, including the response from your function to get a final response\n",
    "\n"
   ]
  },
  {
   "cell_type": "markdown",
   "metadata": {},
   "source": [
    "### Pre-requisites:\n",
    "1. Install the latest version of openai Python package and set openai.api_version code variable to July 2023 version or above\n",
    "\n",
    "    ``` Python\n",
    "        openai.api_version = \"2023-07-01-preview\"\n",
    "    ```\n",
    "2. Retrieve Azure Open AI model deployment name, API endpoint and API key from Azure OpenAI settings and assign them to \"OPENAI_DEPLOYMENT_NAME\", \"OPENAI_API_BASE\" and \"OPENAI_API_KEY\" environment variables, respectively;\n",
    "3. Generator your Rapid API key from https://rapidapi.com/ and assign it to \"RAPID_API_KEY\" environment variable."
   ]
  },
  {
   "cell_type": "code",
   "execution_count": 16,
   "metadata": {
    "tags": [
     "parameters"
    ]
   },
   "outputs": [],
   "source": [
    "# Import required packages\n",
    "import openai\n",
    "import os\n",
    "import json\n",
    "import datetime\n",
    "import requests\n",
    "from pathlib import Path\n",
    "from dotenv import load_dotenv\n",
    "\n",
    "BASE_DIR = Path(\".\")\n",
    "ENV_DIR = BASE_DIR / \"env\"\n",
    "DOT_ENV = ENV_DIR / \".env\"\n",
    "\n",
    "load_dotenv(DOT_ENV, override=True) # Load environment variables from .env file\n",
    "\n",
    "# Define Azure OpenAI endpoint parameters\n",
    "openai.api_type = \"azure\"\n",
    "openai.api_version = \"2023-07-01-preview\"\n",
    "openai.api_base = os.getenv(\"OPENAI_API_BASE\") # Set AOAI endpoint value as env variable\n",
    "openai.api_key = os.getenv(\"OPENAI_API_KEY\") # Set AOAI API key as env variable\n",
    "aoai_deployment_name = os.getenv(\"OPENAI_DEPLOYMENT_NAME\") # Set AOAI deployment name as env variable\n",
    "\n",
    "# Define Rapid API parameter //https://rapidapi.com/collection/recommended-apis\n",
    "\n",
    "rapid_api_key = os.getenv(\"RAPID_API_KEY\") # Set Rapid API key as env variable\n",
    "rapid_api_host = \"weatherapi-com.p.rapidapi.com\" # Set Rapid API host for WeatherAPI.com as env variable"
   ]
  },
  {
   "cell_type": "markdown",
   "metadata": {},
   "source": [
    "### 1. Function to get Realtime Weather from WeatherAPI(rapidapi.com):\n",
    "We'll use get_current_weather custom function to interact with weather API and retrieve the real time weather of a given city. JSON structure returned by API endpoint is parsed to extract only specific values."
   ]
  },
  {
   "cell_type": "code",
   "execution_count": 17,
   "metadata": {},
   "outputs": [],
   "source": [
    "\n",
    "# Function to get stock price from Alpha Vantage API\n",
    "def get_current_weather(city):\n",
    "    today = datetime.date.today().strftime(\"%Y-%m-%d\")\n",
    "    print(f\"Getting current weather for {city} on {today}\")\n",
    "    try:\n",
    "        url = \"https://weatherapi-com.p.rapidapi.com/current.json\"\n",
    "        querystring = {\"q\":{city}}\n",
    "        headers = {\n",
    "    \n",
    "\t\"X-RapidAPI-Key\": rapid_api_key,\n",
    "\t\"X-RapidAPI-Host\": rapid_api_host\n",
    "}\n",
    "        response = requests.get(url, headers=headers, params=querystring)\n",
    "        current_temp_inc = response.json()[\"current\"][\"temp_c\"]\n",
    "        current_temp_inf = response.json()[\"current\"][\"temp_f\"]\n",
    "        current_wind_kph = response.json()[\"current\"][\"wind_kph\"]\n",
    "        current_humidity = response.json()[\"current\"][\"humidity\"]\n",
    "        current_condition = response.json()[\"current\"][\"condition\"][\"text\"]\n",
    "        current_wind_direction = response.json()[\"current\"][\"wind_dir\"]\n",
    "        return str(current_temp_inc), str(current_temp_inf), str(current_wind_kph), str(current_humidity), str(current_condition), str(current_wind_direction)\n",
    "    except:\n",
    "        return \"NA\", \"NA\", \"NA\",\"NA\", \"NA\", \"NA\""
   ]
  },
  {
   "cell_type": "markdown",
   "metadata": {},
   "source": [
    "### 2. JSON structure for GPT function definition:\n",
    "Function calling is available in the `2023-07-01-preview` API version and works with version `0613` of `gpt-35-turbo`, `gpt-35-turbo-16k`, `gpt-4`, and `gpt-4-32k`.\n",
    "\n",
    "A function has three main parameters: `name`, `description`, and `parameters`. The `description` parameter is used by the model to determine when and how to call the function so it's important to give a meaningful description of what the function does.\n",
    "\n",
    "`parameters` is a JSON schema object that describes the parameters that the function accepts. You can learn more about JSON schema objects in the JSON schema reference.\n",
    "\n",
    "If you want to describe a function that doesn't accept any parameters, use `{\"type\": \"object\", \"properties\": {}}` as the value for the `parameters` property."
   ]
  },
  {
   "cell_type": "code",
   "execution_count": 18,
   "metadata": {},
   "outputs": [],
   "source": [
    "\n",
    "functions = [\n",
    "    {\n",
    "        \"name\": \"get_current_weather\",\n",
    "        \"description\": \"Retrieve the current weather of the given city\",\n",
    "        \"parameters\": {\n",
    "            \"type\": \"object\",\n",
    "            \"properties\": {\n",
    "                \"city\": {\n",
    "                    \"type\": \"string\",\n",
    "                    \"description\": \"name of the city, for example Indore\"\n",
    "                }\n",
    "            },\n",
    "            \"required\": [\"city\"],\n",
    "        }   \n",
    "    }\n",
    "]\n",
    "\n",
    "available_functions = {\n",
    "    \"get_current_weather\": get_current_weather,\n",
    "} "
   ]
  },
  {
   "cell_type": "markdown",
   "metadata": {},
   "source": [
    "### 3. Helper function to interact with Azure OpenAI model:\n",
    "\n",
    "To use function calling with the Chat Completions API, you need to include two new properties in your request: `functions` and `function_call`. You can include one or more functions in your request.\n",
    "\n",
    "When functions are provided, by default the `function_call` will be set to `\"auto\"` and the model will decide whether or not a function should be called. Alternatively, you can set the `function_call` parameter to `{\"name\": \"<insert-function-name>\"}` to force the API to call a specific function or you can set the parameter to \"none\" to prevent the model from calling any functions.\n",
    "\n",
    "The response from the API includes a `function_call` property if the model determines that a function should be called. The function_call property includes the name of the function to call and the arguments to pass to the function. The arguments are a JSON string that you can parse and use to call your function.\n",
    "\n",
    "  ```json\n",
    "  {\n",
    "    \"arguments\": \"{\\n\\\"city\\\": \\\"indore\\\"\\n}\",\n",
    "    \"name\": \"get_current_weather\"\n",
    "  }\n",
    "  ```\n",
    "\n"
   ]
  },
  {
   "cell_type": "code",
   "execution_count": 19,
   "metadata": {},
   "outputs": [],
   "source": [
    "def run_conversation(messages, functions, available_functions, deployment_id):\n",
    "    \n",
    "    response = openai.ChatCompletion.create(\n",
    "        deployment_id=aoai_deployment_name,\n",
    "        messages=messages,\n",
    "        functions=functions,\n",
    "        function_call=\"auto\", \n",
    "    )\n",
    "    response_message = response[\"choices\"][0][\"message\"]\n",
    "\n",
    "    # Check if the model wants to call a function\n",
    "    if response_message.get(\"function_call\"):\n",
    "        print(\"Recommended function call:\")\n",
    "        print(response_message.get(\"function_call\"))\n",
    "        print()\n",
    "        \n",
    "        # Note: the JSON response may not always be valid; be sure to handle errors    \n",
    "           \n",
    "        function_name = response_message[\"function_call\"][\"name\"]\n",
    "        \n",
    "        # Verify that function exists\n",
    "        if function_name not in available_functions:\n",
    "            return \"Function \" + function_name + \" does not exist\"\n",
    "        function_to_call = available_functions[function_name] \n",
    "        \n",
    "        # Verify function has correct number of arguments\n",
    "        function_args = json.loads(response_message[\"function_call\"][\"arguments\"])\n",
    "        print(function_args)\n",
    "        current_temp_inc1,current_temp_inf1,current_wind_kph1,current_humidity1,current_condition1,current_wind_direction1 = function_to_call(**function_args)\n",
    "        function_response =  f\"Temprature in degree celsius:{current_temp_inc1}, Temprature in fahrenheit:{current_temp_inf1}, Current wind speed in kph:{current_wind_kph1}, Current humidity:{current_humidity1}, Weather condition is:{current_condition1}, Wind direction is:{current_wind_direction1}\",\n",
    "        \n",
    "        print(\"Output of function call:\")\n",
    "        print(function_response)\n",
    "        print()\n",
    "        \n",
    "        # Adding assistant response to messages\n",
    "        messages.append(\n",
    "            {\n",
    "                \"role\": \"assistant\",\n",
    "                \"name\": function_name,\n",
    "                \"content\": response_message[\"function_call\"][\"arguments\"],\n",
    "            }\n",
    "        )\n",
    "\n",
    "        # Adding function response to messages\n",
    "        messages.append(\n",
    "            {\n",
    "                \"role\": \"function\",\n",
    "                \"name\": function_name,\n",
    "                \"content\": str(function_response),\n",
    "            }\n",
    "        )\n",
    "\n",
    "        # Call the API again to get the final response from the model\n",
    "        second_response = openai.ChatCompletion.create(\n",
    "            messages=messages,\n",
    "            deployment_id=aoai_deployment_name\n",
    "        )  \n",
    "        return second_response"
   ]
  },
  {
   "cell_type": "markdown",
   "metadata": {},
   "source": [
    "### 4. Testing:\n",
    "\n",
    "The last cell in the notebook helps to test everything end to end. We will request for a real time weather of a specific city by taking a user input."
   ]
  },
  {
   "cell_type": "code",
   "execution_count": null,
   "metadata": {},
   "outputs": [],
   "source": [
    "user_input = input() \n",
    "messages=[\n",
    "        {\"role\": \"system\", \n",
    "         \"content\": \"\"\"You're an AI assistant designed to help users ask for weather. \n",
    "         When a user asks for weather of specific city, you should call the get_current_weather function. \n",
    "         If the question is not related to weather of the city, you should respond with a polite message.         \n",
    "         Only use the functions you have been provided with.\n",
    "         politely say NO if you dont know the answer to a question.\n",
    "         \"\"\"},\n",
    "        {\"role\": \"user\", \"content\": user_input}\n",
    "    ]\n",
    "assistant_response = run_conversation(messages, functions, available_functions, aoai_deployment_name)\n",
    "print(assistant_response['choices'][0]['message'])"
   ]
  }
 ],
 "metadata": {
  "kernelspec": {
   "display_name": "Python 3",
   "language": "python",
   "name": "python3"
  },
  "language_info": {
   "codemirror_mode": {
    "name": "ipython",
    "version": 3
   },
   "file_extension": ".py",
   "mimetype": "text/x-python",
   "name": "python",
   "nbconvert_exporter": "python",
   "pygments_lexer": "ipython3",
   "version": "3.12.0"
  },
  "orig_nbformat": 4
 },
 "nbformat": 4,
 "nbformat_minor": 2
}
